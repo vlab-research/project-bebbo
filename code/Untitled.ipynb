{
 "cells": [
  {
   "cell_type": "code",
   "execution_count": 2,
   "id": "efc2be21-0839-49fb-8650-905a88dab907",
   "metadata": {
    "collapsed": false
   },
   "outputs": [
    {
     "name": "stderr",
     "output_type": "stream",
     "text": [
      "/tmp/ipykernel_74/384077913.py:3: DtypeWarning: Columns (13) have mixed types. Specify dtype option on import or set low_memory=False.\n",
      "  lng = pd.read_csv('../data/raw/bulgaria/responses-long.csv')\n"
     ]
    }
   ],
   "source": [
    "import pandas as pd\n",
    "\n",
    "lng = pd.read_csv('../data/raw/bulgaria/responses-long.csv')"
   ]
  },
  {
   "cell_type": "code",
   "execution_count": null,
   "id": "c5371d52-2f63-44cc-a165-e2d80df8f65c",
   "metadata": {
    "collapsed": false
   },
   "outputs": [],
   "source": [
    "! pip install --quiet --upgrade vlab-prepro"
   ]
  },
  {
   "cell_type": "code",
   "execution_count": 112,
   "id": "f43cf9af-d55d-41dd-aa99-aff86a496888",
   "metadata": {
    "collapsed": false
   },
   "outputs": [
    {
     "data": {
      "text/plain": [
       "Index(['parent_surveyid', 'parent_shortcode', 'flowid', 'userid',\n",
       "       'question_ref', 'question_idx', 'question_text', 'response',\n",
       "       'timestamp', 'metadata', 'pageid', 'form_lang', 'form_language',\n",
       "       'form_wave', 'shortcode', 'survey_created', 'survey_name', 'version',\n",
       "       'final_answer', 'survey_start_time', 'survey_end_time',\n",
       "       'survey_duration', 'answer_time_min', 'answer_time_median',\n",
       "       'answer_time_75', 'answer_time_90', 'surveyid', 'translated_response',\n",
       "       'seed', 'creative'],\n",
       "      dtype='object')"
      ]
     },
     "execution_count": 112,
     "metadata": {},
     "output_type": "execute_result"
    }
   ],
   "source": [
    "ll.columns"
   ]
  },
  {
   "cell_type": "code",
   "execution_count": 153,
   "id": "af643045-cca8-444c-aa67-552eefd8924c",
   "metadata": {
    "collapsed": false
   },
   "outputs": [],
   "source": [
    "from vlab_prepro import Preprocessor\n",
    "from toolz import pipe\n",
    "\n",
    "def pivot_data(responses):\n",
    "    p = Preprocessor()\n",
    "\n",
    "    return pipe(\n",
    "        responses,\n",
    "        p.keep_final_answer,\n",
    "        p.add_metadata([\"seed\", \"creative\"]),\n",
    "        p.drop_users_without(\"creative\"),\n",
    "        p.drop_duplicated_users([\"shortcode\"]),\n",
    "        p.add_duration(),       \n",
    "        p.pivot(\"translated_response\")\n",
    "    )\n",
    "\n",
    "def make_lookup(lng):\n",
    "    return (lng[lng.response.notna() & lng.translated_response.notna()]\n",
    "     .groupby(['shortcode', 'question_ref', 'response'])\n",
    "     .first()\n",
    "     .reset_index()[['shortcode', 'surveyid', 'question_ref', 'response', 'translated_response']])\n",
    "\n",
    "def replace_and_pivot(lng):\n",
    "    lookup = make_lookup(lng)\n",
    "    ll = lng.drop(columns=[\"translated_response\", \"surveyid\"]).merge(lookup, on=[\"shortcode\", \"question_ref\", \"response\"], how='left')    \n",
    "    ll['translated_response'] = ll.translated_response.combine_first(ll.response)\n",
    "    return pivot_data(ll)    "
   ]
  },
  {
   "cell_type": "code",
   "execution_count": 121,
   "id": "b09fa55c-a18e-4169-9fc7-44afbadf420a",
   "metadata": {
    "collapsed": false
   },
   "outputs": [
    {
     "name": "stderr",
     "output_type": "stream",
     "text": [
      "/tmp/ipykernel_74/2545850260.py:1: DtypeWarning: Columns (13,14) have mixed types. Specify dtype option on import or set low_memory=False.\n",
      "  lng = pd.read_csv('../data/raw/serbia/responses-long.csv')\n"
     ]
    }
   ],
   "source": [
    "lng = pd.read_csv('../data/raw/serbia/responses-long.csv')"
   ]
  },
  {
   "cell_type": "code",
   "execution_count": 122,
   "id": "fbe41ed0-79c8-4049-9eb9-6a03bafc31e5",
   "metadata": {
    "collapsed": false
   },
   "outputs": [
    {
     "data": {
      "text/plain": [
       "(326113, 29)"
      ]
     },
     "execution_count": 122,
     "metadata": {},
     "output_type": "execute_result"
    }
   ],
   "source": [
    "lng.shape"
   ]
  },
  {
   "cell_type": "code",
   "execution_count": 154,
   "id": "370bcbd7-84d6-46f3-8b56-13133e6bac2d",
   "metadata": {
    "collapsed": false
   },
   "outputs": [],
   "source": [
    "lookup = make_lookup(lng)\n",
    "ll = lng.drop(columns=[\"translated_response\", \"surveyid\"]).merge(lookup, on=[\"shortcode\", \"question_ref\", \"response\"], how='left')    \n",
    "ll['translated_response'] = ll.translated_response.combine_first(ll.response)\n"
   ]
  },
  {
   "cell_type": "code",
   "execution_count": null,
   "id": "da7bd9c2-3fa9-40dc-842a-49c41a4bc5b6",
   "metadata": {
    "collapsed": false
   },
   "outputs": [],
   "source": [
    "wide = pivot_data(ll)    "
   ]
  },
  {
   "cell_type": "code",
   "execution_count": null,
   "id": "add5e9f8-b5f3-4fa0-8bf7-687d8226b9f7",
   "metadata": {
    "collapsed": false
   },
   "outputs": [],
   "source": [
    "wide.shape"
   ]
  },
  {
   "cell_type": "code",
   "execution_count": null,
   "id": "890a9ed0-3ec2-4a3c-9989-ad4b0880ffd6",
   "metadata": {
    "collapsed": false
   },
   "outputs": [],
   "source": [
    "wide[wide.duplicated(['userid', 'shortcode'], keep=False)][['userid', 'surveyid', 'shortcode']]"
   ]
  },
  {
   "cell_type": "code",
   "execution_count": 143,
   "id": "bc132af5-af11-4cc8-a42d-f9edaf0900d9",
   "metadata": {
    "collapsed": false
   },
   "outputs": [
    {
     "data": {
      "text/plain": [
       "(11332, 102)"
      ]
     },
     "execution_count": 143,
     "metadata": {},
     "output_type": "execute_result"
    }
   ],
   "source": [
    "wide.groupby(['userid', 'shortcode']).first().shape"
   ]
  },
  {
   "cell_type": "code",
   "execution_count": 125,
   "id": "9be8e4c9-f8c7-4321-bf64-17c6ba4e6d65",
   "metadata": {
    "collapsed": false
   },
   "outputs": [],
   "source": [
    "dd = pd.read_csv('../data/raw/serbia/responses.csv')"
   ]
  },
  {
   "cell_type": "code",
   "execution_count": 133,
   "id": "4c14fb2a-f411-4c11-a90c-b3415c120634",
   "metadata": {
    "collapsed": false
   },
   "outputs": [
    {
     "data": {
      "text/plain": [
       "(11267, 105)"
      ]
     },
     "execution_count": 133,
     "metadata": {},
     "output_type": "execute_result"
    }
   ],
   "source": [
    "dd.shape"
   ]
  },
  {
   "cell_type": "code",
   "execution_count": 132,
   "id": "d36a04ef-c74c-4680-b7a2-45ae69703a1a",
   "metadata": {
    "collapsed": false
   },
   "outputs": [
    {
     "data": {
      "text/plain": [
       "(11267, 103)"
      ]
     },
     "execution_count": 132,
     "metadata": {},
     "output_type": "execute_result"
    }
   ],
   "source": [
    "dd.groupby(['userid', 'shortcode']).first().shape"
   ]
  }
 ],
 "metadata": {
  "kernelspec": {
   "argv": [
    "python",
    "-m",
    "ipykernel_launcher",
    "-f",
    "{connection_file}"
   ],
   "display_name": "Python 3 (ipykernel)",
   "env": null,
   "interrupt_mode": "signal",
   "language": "python",
   "metadata": {
    "debugger": true
   },
   "name": "python3"
  },
  "name": "Untitled.ipynb"
 },
 "nbformat": 4,
 "nbformat_minor": 5
}
